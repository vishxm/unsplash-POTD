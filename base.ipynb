{
 "metadata": {
  "language_info": {
   "codemirror_mode": {
    "name": "ipython",
    "version": 3
   },
   "file_extension": ".py",
   "mimetype": "text/x-python",
   "name": "python",
   "nbconvert_exporter": "python",
   "pygments_lexer": "ipython3",
   "version": "3.9.0-final"
  },
  "orig_nbformat": 2,
  "kernelspec": {
   "name": "python3",
   "display_name": "Python 3"
  }
 },
 "nbformat": 4,
 "nbformat_minor": 2,
 "cells": [
  {
   "cell_type": "code",
   "execution_count": 1,
   "metadata": {},
   "outputs": [],
   "source": [
    "import requests"
   ]
  },
  {
   "cell_type": "code",
   "execution_count": 2,
   "metadata": {},
   "outputs": [],
   "source": [
    "url = \"https://unsplash.com/\"\n",
    "page = requests.get(url)"
   ]
  },
  {
   "cell_type": "code",
   "execution_count": 3,
   "metadata": {},
   "outputs": [],
   "source": [
    "from bs4 import BeautifulSoup"
   ]
  },
  {
   "cell_type": "code",
   "execution_count": 4,
   "metadata": {},
   "outputs": [],
   "source": [
    "soup = BeautifulSoup(page.text, 'html.parser')"
   ]
  },
  {
   "cell_type": "code",
   "execution_count": 5,
   "metadata": {
    "tags": [
     "outputPrepend"
    ]
   },
   "outputs": [
    {
     "output_type": "stream",
     "name": "stdout",
     "text": [
      "o_url\\\":null,\\\"bio\\\":\\\"It would be sweet to have a job in taking pictures one day 🤞🏾\\\\r\\\\nFollow me on Instagram @visualsbytyy\\\",\\\"location\\\":\\\"Ottawa, Canada\\\",\\\"links\\\":{\\\"self\\\":\\\"https://api.unsplash.com/users/visualsbytyy\\\",\\\"html\\\":\\\"https://unsplash.com/@visualsbytyy\\\",\\\"photos\\\":\\\"https://api.unsplash.com/users/visualsbytyy/photos\\\",\\\"likes\\\":\\\"https://api.unsplash.com/users/visualsbytyy/likes\\\",\\\"portfolio\\\":\\\"https://api.unsplash.com/users/visualsbytyy/portfolio\\\",\\\"following\\\":\\\"https://api.unsplash.com/users/visualsbytyy/following\\\",\\\"followers\\\":\\\"https://api.unsplash.com/users/visualsbytyy/followers\\\"},\\\"profile_image\\\":{\\\"small\\\":\\\"https://images.unsplash.com/profile-1605129536866-5bc0987bdea4image?ixlib=rb-1.2.1&q=80&fm=jpg&crop=faces&cs=tinysrgb&fit=crop&h=32&w=32\\\",\\\"medium\\\":\\\"https://images.unsplash.com/profile-1605129536866-5bc0987bdea4image?ixlib=rb-1.2.1&q=80&fm=jpg&crop=faces&cs=tinysrgb&fit=crop&h=64&w=64\\\",\\\"large\\\":\\\"https://images.unsplash.com/profile-1605129536866-5bc0987bdea4image?ixlib=rb-1.2.1&q=80&fm=jpg&crop=faces&cs=tinysrgb&fit=crop&h=128&w=128\\\"},\\\"instagram_username\\\":\\\"visualsbytyy\\\",\\\"total_collections\\\":0,\\\"total_likes\\\":29,\\\"total_photos\\\":108,\\\"accepted_tos\\\":true},\\\"y7LfWJF0CcQ\\\":{\\\"id\\\":\\\"y7LfWJF0CcQ\\\",\\\"updated_at\\\":\\\"2020-12-10T06:21:36-05:00\\\",\\\"username\\\":\\\"lackingnothing\\\",\\\"name\\\":\\\"Parker Coffman\\\",\\\"first_name\\\":\\\"Parker\\\",\\\"last_name\\\":\\\"Coffman\\\",\\\"twitter_username\\\":\\\"ParkerCoffman\\\",\\\"portfolio_url\\\":\\\"https://www.instagram.com/parker.coffman/\\\",\\\"bio\\\":\\\"Things that interest me \\\",\\\"location\\\":\\\"Tulsa, OK\\\",\\\"links\\\":{\\\"self\\\":\\\"https://api.unsplash.com/users/lackingnothing\\\",\\\"html\\\":\\\"https://unsplash.com/@lackingnothing\\\",\\\"photos\\\":\\\"https://api.unsplash.com/users/lackingnothing/photos\\\",\\\"likes\\\":\\\"https://api.unsplash.com/users/lackingnothing/likes\\\",\\\"portfolio\\\":\\\"https://api.unsplash.com/users/lackingnothing/portfolio\\\",\\\"following\\\":\\\"https://api.unsplash.com/users/lackingnothing/following\\\",\\\"followers\\\":\\\"https://api.unsplash.com/users/lackingnothing/followers\\\"},\\\"profile_image\\\":{\\\"small\\\":\\\"https://images.unsplash.com/profile-1600791077428-8dbea50650f0image?ixlib=rb-1.2.1&q=80&fm=jpg&crop=faces&cs=tinysrgb&fit=crop&h=32&w=32\\\",\\\"medium\\\":\\\"https://images.unsplash.com/profile-1600791077428-8dbea50650f0image?ixlib=rb-1.2.1&q=80&fm=jpg&crop=faces&cs=tinysrgb&fit=crop&h=64&w=64\\\",\\\"large\\\":\\\"https://images.unsplash.com/profile-1600791077428-8dbea50650f0image?ixlib=rb-1.2.1&q=80&fm=jpg&crop=faces&cs=tinysrgb&fit=crop&h=128&w=128\\\"},\\\"instagram_username\\\":\\\"parker.coffman\\\",\\\"total_collections\\\":5,\\\"total_likes\\\":5,\\\"total_photos\\\":316,\\\"accepted_tos\\\":true},\\\"PwW-iSsKLUg\\\":{\\\"id\\\":\\\"PwW-iSsKLUg\\\",\\\"updated_at\\\":\\\"2020-12-10T08:12:18-05:00\\\",\\\"username\\\":\\\"tkirkgoz\\\",\\\"name\\\":\\\"Mehmet Turgut Kirkgoz\\\",\\\"first_name\\\":\\\"Mehmet Turgut\\\",\\\"last_name\\\":\\\"Kirkgoz\\\",\\\"twitter_username\\\":null,\\\"portfolio_url\\\":null,\\\"bio\\\":null,\\\"location\\\":null,\\\"links\\\":{\\\"self\\\":\\\"https://api.unsplash.com/users/tkirkgoz\\\",\\\"html\\\":\\\"https://unsplash.com/@tkirkgoz\\\",\\\"photos\\\":\\\"https://api.unsplash.com/users/tkirkgoz/photos\\\",\\\"likes\\\":\\\"https://api.unsplash.com/users/tkirkgoz/likes\\\",\\\"portfolio\\\":\\\"https://api.unsplash.com/users/tkirkgoz/portfolio\\\",\\\"following\\\":\\\"https://api.unsplash.com/users/tkirkgoz/following\\\",\\\"followers\\\":\\\"https://api.unsplash.com/users/tkirkgoz/followers\\\"},\\\"profile_image\\\":{\\\"small\\\":\\\"https://images.unsplash.com/profile-1591458962095-99ce8b10ddfcimage?ixlib=rb-1.2.1&q=80&fm=jpg&crop=faces&cs=tinysrgb&fit=crop&h=32&w=32\\\",\\\"medium\\\":\\\"https://images.unsplash.com/profile-1591458962095-99ce8b10ddfcimage?ixlib=rb-1.2.1&q=80&fm=jpg&crop=faces&cs=tinysrgb&fit=crop&h=64&w=64\\\",\\\"large\\\":\\\"https://images.unsplash.com/profile-1591458962095-99ce8b10ddfcimage?ixlib=rb-1.2.1&q=80&fm=jpg&crop=faces&cs=tinysrgb&fit=crop&h=128&w=128\\\"},\\\"instagram_username\\\":null,\\\"total_collections\\\":1,\\\"total_likes\\\":97,\\\"total_photos\\\":597,\\\"accepted_tos\\\":true},\\\"eySMK9KwmJU\\\":{\\\"id\\\":\\\"eySMK9KwmJU\\\",\\\"updated_at\\\":\\\"2020-12-10T08:17:17-05:00\\\",\\\"username\\\":\\\"samsungmemory\\\",\\\"name\\\":\\\"Samsung Memory\\\",\\\"first_name\\\":\\\"Samsung\\\",\\\"last_name\\\":\\\"Memory\\\",\\\"twitter_username\\\":\\\"\\\",\\\"portfolio_url\\\":\\\"http://www.samsung.com/us/computing/memory-storage/\\\",\\\"bio\\\":\\\"Memory for every endeavor – get fast storage solutions that work seamlessly with your devices.\\\",\\\"location\\\":null,\\\"links\\\":{\\\"self\\\":\\\"https://api.unsplash.com/users/samsungmemory\\\",\\\"html\\\":\\\"https://unsplash.com/@samsungmemory\\\",\\\"photos\\\":\\\"https://api.unsplash.com/users/samsungmemory/photos\\\",\\\"likes\\\":\\\"https://api.unsplash.com/users/samsungmemory/likes\\\",\\\"portfolio\\\":\\\"https://api.unsplash.com/users/samsungmemory/portfolio\\\",\\\"following\\\":\\\"https://api.unsplash.com/users/samsungmemory/following\\\",\\\"followers\\\":\\\"https://api.unsplash.com/users/samsungmemory/followers\\\"},\\\"profile_image\\\":{\\\"small\\\":\\\"https://images.unsplash.com/profile-1602741027167-c4d707fcfc85image?ixlib=rb-1.2.1&q=80&fm=jpg&crop=faces&cs=tinysrgb&fit=crop&h=32&w=32\\\",\\\"medium\\\":\\\"https://images.unsplash.com/profile-1602741027167-c4d707fcfc85image?ixlib=rb-1.2.1&q=80&fm=jpg&crop=faces&cs=tinysrgb&fit=crop&h=64&w=64\\\",\\\"large\\\":\\\"https://images.unsplash.com/profile-1602741027167-c4d707fcfc85image?ixlib=rb-1.2.1&q=80&fm=jpg&crop=faces&cs=tinysrgb&fit=crop&h=128&w=128\\\"},\\\"instagram_username\\\":\\\"samsungmemory\\\",\\\"total_collections\\\":0,\\\"total_likes\\\":0,\\\"total_photos\\\":60,\\\"accepted_tos\\\":true},\\\"zYw2OJ152h8\\\":{\\\"id\\\":\\\"zYw2OJ152h8\\\",\\\"updated_at\\\":\\\"2020-12-10T08:17:17-05:00\\\",\\\"username\\\":\\\"heftiba\\\",\\\"name\\\":\\\"Toa Heftiba\\\",\\\"first_name\\\":\\\"Toa\\\",\\\"last_name\\\":\\\"Heftiba\\\",\\\"twitter_username\\\":\\\"toaheftiba\\\",\\\"portfolio_url\\\":\\\"http://heftiba.co.uk/\\\",\\\"bio\\\":\\\"ᴘʀᴏᴅᴜᴄᴛ | ꜰᴏᴏᴅ | ʟɪꜰᴇꜱᴛʏʟᴇ ᴘʜᴏᴛᴏɢʀᴀᴘʜᴇʀ • ᴀ ꜰᴀɴ ᴏꜰ ᴏᴅᴅ ᴛʜɪɴɢꜱ ᴀɴᴅ ɢᴏᴏᴅ ʜᴜᴍᴏᴜʀ. 🙂\\\\r\\\\n👉🏻ᴄʟɪᴄᴋ ᴛʜᴇ 'ᴄᴏʟʟᴇᴄᴛɪᴏɴꜱ' ᴛᴀʙ ʙᴇʟᴏᴡ ᴛᴏ ᴠɪᴇᴡ ᴍʏ ɪᴍᴀɢᴇꜱ ɪɴ ᴏʀɢᴀɴɪꜱᴇᴅ ꜰᴏʟᴅᴇʀꜱ.  ᴡʜʏ ɴᴏᴛ ꜱᴀʏ ʜᴇʟʟᴏ ⚡️ ɪɢ: @ʜᴇꜰᴛɪʙᴀ.ᴄᴏ.ᴜᴋ  🎁 for small donations use: paypal.me/toaheftiba\\\",\\\"location\\\":\\\"UK\\\",\\\"links\\\":{\\\"self\\\":\\\"https://api.unsplash.com/users/heftiba\\\",\\\"html\\\":\\\"https://unsplash.com/@heftiba\\\",\\\"photos\\\":\\\"https://api.unsplash.com/users/heftiba/photos\\\",\\\"likes\\\":\\\"https://api.unsplash.com/users/heftiba/likes\\\",\\\"portfolio\\\":\\\"https://api.unsplash.com/users/heftiba/portfolio\\\",\\\"following\\\":\\\"https://api.unsplash.com/users/heftiba/following\\\",\\\"followers\\\":\\\"https://api.unsplash.com/users/heftiba/followers\\\"},\\\"profile_image\\\":{\\\"small\\\":\\\"https://images.unsplash.com/profile-1605780274397-200ea3604d6fimage?ixlib=rb-1.2.1&q=80&fm=jpg&crop=faces&cs=tinysrgb&fit=crop&h=32&w=32\\\",\\\"medium\\\":\\\"https://images.unsplash.com/profile-1605780274397-200ea3604d6fimage?ixlib=rb-1.2.1&q=80&fm=jpg&crop=faces&cs=tinysrgb&fit=crop&h=64&w=64\\\",\\\"large\\\":\\\"https://images.unsplash.com/profile-1605780274397-200ea3604d6fimage?ixlib=rb-1.2.1&q=80&fm=jpg&crop=faces&cs=tinysrgb&fit=crop&h=128&w=128\\\"},\\\"instagram_username\\\":\\\"heftiba.co.uk\\\",\\\"total_collections\\\":34,\\\"total_likes\\\":2483,\\\"total_photos\\\":2401,\\\"accepted_tos\\\":true},\\\"ZLK6ziloW8Y\\\":{\\\"id\\\":\\\"ZLK6ziloW8Y\\\",\\\"updated_at\\\":\\\"2020-12-10T08:17:17-05:00\\\",\\\"username\\\":\\\"dnevozhai\\\",\\\"name\\\":\\\"Denys Nevozhai\\\",\\\"first_name\\\":\\\"Denys\\\",\\\"last_name\\\":\\\"Nevozhai\\\",\\\"twitter_username\\\":\\\"dnevozhai\\\",\\\"portfolio_url\\\":\\\"http://dnevozhai.com\\\",\\\"bio\\\":\\\"UX Designer at Google Nest\\\",\\\"location\\\":\\\"San Francisco Bay Area\\\",\\\"links\\\":{\\\"self\\\":\\\"https://api.unsplash.com/users/dnevozhai\\\",\\\"html\\\":\\\"https://unsplash.com/@dnevozhai\\\",\\\"photos\\\":\\\"https://api.unsplash.com/users/dnevozhai/photos\\\",\\\"likes\\\":\\\"https://api.unsplash.com/users/dnevozhai/likes\\\",\\\"portfolio\\\":\\\"https://api.unsplash.com/users/dnevozhai/portfolio\\\",\\\"following\\\":\\\"https://api.unsplash.com/users/dnevozhai/following\\\",\\\"followers\\\":\\\"https://api.unsplash.com/users/dnevozhai/followers\\\"},\\\"profile_image\\\":{\\\"small\\\":\\\"https://images.unsplash.com/profile-1483664742704-c8267804d72b?ixlib=rb-1.2.1&q=80&fm=jpg&crop=faces&cs=tinysrgb&fit=crop&h=32&w=32\\\",\\\"medium\\\":\\\"https://images.unsplash.com/profile-1483664742704-c8267804d72b?ixlib=rb-1.2.1&q=80&fm=jpg&crop=faces&cs=tinysrgb&fit=crop&h=64&w=64\\\",\\\"large\\\":\\\"https://images.unsplash.com/profile-1483664742704-c8267804d72b?ixlib=rb-1.2.1&q=80&fm=jpg&crop=faces&cs=tinysrgb&fit=crop&h=128&w=128\\\"},\\\"instagram_username\\\":\\\"dnevozhai\\\",\\\"total_collections\\\":0,\\\"total_likes\\\":122,\\\"total_photos\\\":150,\\\"accepted_tos\\\":true},\\\"VRT3JwCLG7o\\\":{\\\"id\\\":\\\"VRT3JwCLG7o\\\",\\\"updated_at\\\":\\\"2020-12-10T08:17:17-05:00\\\",\\\"username\\\":\\\"mbaumi\\\",\\\"name\\\":\\\"Mika Baumeister\\\",\\\"first_name\\\":\\\"Mika\\\",\\\"last_name\\\":\\\"Baumeister\\\",\\\"twitter_username\\\":\\\"MB4umi\\\",\\\"portfolio_url\\\":\\\"https://mikabaumeister.de\\\",\\\"bio\\\":\\\"a little bit of stock 📈, a little bit of top 🔝.  Building a german Unsplash community. Meet me on the frontpage!\\\\r\\\\nSquad: @Jupp @mzudemx @timaesthetic Managing: @kumpanelectric @the9th\\\",\\\"location\\\":\\\"Bonn, Germany\\\",\\\"links\\\":{\\\"self\\\":\\\"https://api.unsplash.com/users/mbaumi\\\",\\\"html\\\":\\\"https://unsplash.com/@mbaumi\\\",\\\"photos\\\":\\\"https://api.unsplash.com/users/mbaumi/photos\\\",\\\"likes\\\":\\\"https://api.unsplash.com/users/mbaumi/likes\\\",\\\"portfolio\\\":\\\"https://api.unsplash.com/users/mbaumi/portfolio\\\",\\\"following\\\":\\\"https://api.unsplash.com/users/mbaumi/following\\\",\\\"followers\\\":\\\"https://api.unsplash.com/users/mbaumi/followers\\\"},\\\"profile_image\\\":{\\\"small\\\":\\\"https://images.unsplash.com/profile-1542893119878-f06efe455f6a?ixlib=rb-1.2.1&q=80&fm=jpg&crop=faces&cs=tinysrgb&fit=crop&h=32&w=32\\\",\\\"medium\\\":\\\"https://images.unsplash.com/profile-1542893119878-f06efe455f6a?ixlib=rb-1.2.1&q=80&fm=jpg&crop=faces&cs=tinysrgb&fit=crop&h=64&w=64\\\",\\\"large\\\":\\\"https://images.unsplash.com/profile-1542893119878-f06efe455f6a?ixlib=rb-1.2.1&q=80&fm=jpg&crop=faces&cs=tinysrgb&fit=crop&h=128&w=128\\\"},\\\"instagram_username\\\":\\\"mb4umi\\\",\\\"total_collections\\\":14,\\\"total_likes\\\":431,\\\"total_photos\\\":452,\\\"accepted_tos\\\":true},\\\"pubS8rb-IvU\\\":{\\\"id\\\":\\\"pubS8rb-IvU\\\",\\\"updated_at\\\":\\\"2020-12-10T06:21:35-05:00\\\",\\\"username\\\":\\\"keitravissquire\\\",\\\"name\\\":\\\"Keitravis Squire\\\",\\\"first_name\\\":\\\"Keitravis\\\",\\\"last_name\\\":\\\"Squire\\\",\\\"twitter_username\\\":\\\"KeitravisSquire\\\",\\\"portfolio_url\\\":\\\"https://keitravissquire.com\\\",\\\"bio\\\":\\\"Atlanta based Photographer & Filmmaker. \\\\r\\\\nBooking: keitravis@keitravissquire.com\\\",\\\"location\\\":\\\"Atlanta\\\",\\\"links\\\":{\\\"self\\\":\\\"https://api.unsplash.com/users/keitravissquire\\\",\\\"html\\\":\\\"https://unsplash.com/@keitravissquire\\\",\\\"photos\\\":\\\"https://api.unsplash.com/users/keitravissquire/photos\\\",\\\"likes\\\":\\\"https://api.unsplash.com/users/keitravissquire/likes\\\",\\\"portfolio\\\":\\\"https://api.unsplash.com/users/keitravissquire/portfolio\\\",\\\"following\\\":\\\"https://api.unsplash.com/users/keitravissquire/following\\\",\\\"followers\\\":\\\"https://api.unsplash.com/users/keitravissquire/followers\\\"},\\\"profile_image\\\":{\\\"small\\\":\\\"https://images.unsplash.com/profile-1583372923662-bec0a98e8c86image?ixlib=rb-1.2.1&q=80&fm=jpg&crop=faces&cs=tinysrgb&fit=crop&h=32&w=32\\\",\\\"medium\\\":\\\"https://images.unsplash.com/profile-1583372923662-bec0a98e8c86image?ixlib=rb-1.2.1&q=80&fm=jpg&crop=faces&cs=tinysrgb&fit=crop&h=64&w=64\\\",\\\"large\\\":\\\"https://images.unsplash.com/profile-1583372923662-bec0a98e8c86image?ixlib=rb-1.2.1&q=80&fm=jpg&crop=faces&cs=tinysrgb&fit=crop&h=128&w=128\\\"},\\\"instagram_username\\\":\\\"keitravissquire\\\",\\\"total_collections\\\":2,\\\"total_likes\\\":137,\\\"total_photos\\\":68,\\\"accepted_tos\\\":true},\\\"zgyzHuQkOBw\\\":{\\\"id\\\":\\\"zgyzHuQkOBw\\\",\\\"updated_at\\\":\\\"2020-12-10T08:12:19-05:00\\\",\\\"username\\\":\\\"tasikola_pl\\\",\\\"name\\\":\\\"Aleksandra Tanasiienko\\\",\\\"first_name\\\":\\\"Aleksandra\\\",\\\"last_name\\\":\\\"Tanasiienko\\\",\\\"twitter_username\\\":null,\\\"portfolio_url\\\":\\\"https://instagram.com/productphoto.poznan\\\",\\\"bio\\\":\\\"Product and food photographer\\\",\\\"location\\\":\\\"Poznan\\\",\\\"links\\\":{\\\"self\\\":\\\"https://api.unsplash.com/users/tasikola_pl\\\",\\\"html\\\":\\\"https://unsplash.com/@tasikola_pl\\\",\\\"photos\\\":\\\"https://api.unsplash.com/users/tasikola_pl/photos\\\",\\\"likes\\\":\\\"https://api.unsplash.com/users/tasikola_pl/likes\\\",\\\"portfolio\\\":\\\"https://api.unsplash.com/users/tasikola_pl/portfolio\\\",\\\"following\\\":\\\"https://api.unsplash.com/users/tasikola_pl/following\\\",\\\"followers\\\":\\\"https://api.unsplash.com/users/tasikola_pl/followers\\\"},\\\"profile_image\\\":{\\\"small\\\":\\\"https://images.unsplash.com/profile-1604850360726-1a37f39baef1image?ixlib=rb-1.2.1&q=80&fm=jpg&crop=faces&cs=tinysrgb&fit=crop&h=32&w=32\\\",\\\"medium\\\":\\\"https://images.unsplash.com/profile-1604850360726-1a37f39baef1image?ixlib=rb-1.2.1&q=80&fm=jpg&crop=faces&cs=tinysrgb&fit=crop&h=64&w=64\\\",\\\"large\\\":\\\"https://images.unsplash.com/profile-1604850360726-1a37f39baef1image?ixlib=rb-1.2.1&q=80&fm=jpg&crop=faces&cs=tinysrgb&fit=crop&h=128&w=128\\\"},\\\"instagram_username\\\":\\\"Tasikola\\\",\\\"total_collections\\\":0,\\\"total_likes\\\":7,\\\"total_photos\\\":32,\\\"accepted_tos\\\":true},\\\"JzhDKu_NfNs\\\":{\\\"id\\\":\\\"JzhDKu_NfNs\\\",\\\"updated_at\\\":\\\"2020-12-10T08:12:20-05:00\\\",\\\"username\\\":\\\"arusfly\\\",\\\"name\\\":\\\"Arusfly 🌿\\\",\\\"first_name\\\":\\\"Arusfly 🌿\\\",\\\"last_name\\\":null,\\\"twitter_username\\\":\\\"arusfly\\\",\\\"portfolio_url\\\":\\\"http://www.instagram.com/vallartadiarios\\\",\\\"bio\\\":null,\\\"location\\\":\\\"Puerto Vallarta\\\",\\\"links\\\":{\\\"self\\\":\\\"https://api.unsplash.com/users/arusfly\\\",\\\"html\\\":\\\"https://unsplash.com/@arusfly\\\",\\\"photos\\\":\\\"https://api.unsplash.com/users/arusfly/photos\\\",\\\"likes\\\":\\\"https://api.unsplash.com/users/arusfly/likes\\\",\\\"portfolio\\\":\\\"https://api.unsplash.com/users/arusfly/portfolio\\\",\\\"following\\\":\\\"https://api.unsplash.com/users/arusfly/following\\\",\\\"followers\\\":\\\"https://api.unsplash.com/users/arusfly/followers\\\"},\\\"profile_image\\\":{\\\"small\\\":\\\"https://images.unsplash.com/profile-1588638936205-9c639973f359image?ixlib=rb-1.2.1&q=80&fm=jpg&crop=faces&cs=tinysrgb&fit=crop&h=32&w=32\\\",\\\"medium\\\":\\\"https://images.unsplash.com/profile-1588638936205-9c639973f359image?ixlib=rb-1.2.1&q=80&fm=jpg&crop=faces&cs=tinysrgb&fit=crop&h=64&w=64\\\",\\\"large\\\":\\\"https://images.unsplash.com/profile-1588638936205-9c639973f359image?ixlib=rb-1.2.1&q=80&fm=jpg&crop=faces&cs=tinysrgb&fit=crop&h=128&w=128\\\"},\\\"instagram_username\\\":\\\"vallartadiarios \\\",\\\"total_collections\\\":0,\\\"total_likes\\\":63,\\\"total_photos\\\":23,\\\"accepted_tos\\\":true}},\\\"collections\\\":{},\\\"topics\\\":{\\\"wallpapers\\\":{\\\"slug\\\":\\\"wallpapers\\\",\\\"title\\\":\\\"Wallpapers\\\",\\\"featured\\\":true,\\\"ends_at\\\":null},\\\"nature\\\":{\\\"slug\\\":\\\"nature\\\",\\\"title\\\":\\\"Nature\\\",\\\"featured\\\":true,\\\"ends_at\\\":null},\\\"people\\\":{\\\"slug\\\":\\\"people\\\",\\\"title\\\":\\\"People\\\",\\\"featured\\\":true,\\\"ends_at\\\":null},\\\"architecture\\\":{\\\"slug\\\":\\\"architecture\\\",\\\"title\\\":\\\"Architecture\\\",\\\"featured\\\":true,\\\"ends_at\\\":null},\\\"current-events\\\":{\\\"slug\\\":\\\"current-events\\\",\\\"title\\\":\\\"Current Events\\\",\\\"featured\\\":true,\\\"ends_at\\\":null},\\\"experimental\\\":{\\\"slug\\\":\\\"experimental\\\",\\\"title\\\":\\\"Experimental\\\",\\\"featured\\\":true,\\\"ends_at\\\":null},\\\"fashion\\\":{\\\"slug\\\":\\\"fashion\\\",\\\"title\\\":\\\"Fashion\\\",\\\"featured\\\":true,\\\"ends_at\\\":null},\\\"film\\\":{\\\"slug\\\":\\\"film\\\",\\\"title\\\":\\\"Film\\\",\\\"featured\\\":true,\\\"ends_at\\\":null},\\\"health\\\":{\\\"slug\\\":\\\"health\\\",\\\"title\\\":\\\"Health & Wellness\\\",\\\"featured\\\":true,\\\"ends_at\\\":null},\\\"interiors\\\":{\\\"slug\\\":\\\"interiors\\\",\\\"title\\\":\\\"Interiors\\\",\\\"featured\\\":true,\\\"ends_at\\\":null},\\\"street-photography\\\":{\\\"slug\\\":\\\"street-photography\\\",\\\"title\\\":\\\"Street Photography\\\",\\\"featured\\\":true,\\\"ends_at\\\":null},\\\"technology\\\":{\\\"slug\\\":\\\"technology\\\",\\\"title\\\":\\\"Technology\\\",\\\"featured\\\":true,\\\"ends_at\\\":null},\\\"travel\\\":{\\\"slug\\\":\\\"travel\\\",\\\"title\\\":\\\"Travel\\\",\\\"featured\\\":true,\\\"ends_at\\\":null},\\\"textures-patterns\\\":{\\\"slug\\\":\\\"textures-patterns\\\",\\\"title\\\":\\\"Textures & Patterns\\\",\\\"featured\\\":true,\\\"ends_at\\\":null},\\\"business-work\\\":{\\\"slug\\\":\\\"business-work\\\",\\\"title\\\":\\\"Business & Work\\\",\\\"featured\\\":true,\\\"ends_at\\\":null},\\\"animals\\\":{\\\"slug\\\":\\\"animals\\\",\\\"title\\\":\\\"Animals\\\",\\\"featured\\\":true,\\\"ends_at\\\":null},\\\"food-drink\\\":{\\\"slug\\\":\\\"food-drink\\\",\\\"title\\\":\\\"Food & Drink\\\",\\\"featured\\\":true,\\\"ends_at\\\":null},\\\"athletics\\\":{\\\"slug\\\":\\\"athletics\\\",\\\"title\\\":\\\"Athletics\\\",\\\"featured\\\":true,\\\"ends_at\\\":null},\\\"spirituality\\\":{\\\"slug\\\":\\\"spirituality\\\",\\\"title\\\":\\\"Spirituality\\\",\\\"featured\\\":true,\\\"ends_at\\\":null},\\\"arts-culture\\\":{\\\"slug\\\":\\\"arts-culture\\\",\\\"title\\\":\\\"Arts & Culture\\\",\\\"featured\\\":true,\\\"ends_at\\\":null},\\\"history\\\":{\\\"slug\\\":\\\"history\\\",\\\"title\\\":\\\"History\\\",\\\"featured\\\":true,\\\"ends_at\\\":null}},\\\"notifications\\\":{},\\\"jobPosts\\\":{},\\\"campaignProposals\\\":{},\\\"landingPages\\\":{}},\\\"feeds\\\":{\\\"notificationFeed\\\":null,\\\"photoFeeds\\\":{\\\"Editorial-\\\":{\\\"_tag\\\":\\\"RemoteSuccess\\\",\\\"value\\\":{\\\"ids\\\":[\\\"1gLdTsX3_70\\\",\\\"c7QbHvwO8DE\\\",\\\"qyB5nMF1udI\\\",\\\"PVBTKVq93Bs\\\",\\\"vBc7xy65us8\\\",\\\"rJ1bYCy2L20\\\",\\\"BEKv1HnpbW4\\\",\\\"52HdCrq68OY\\\",\\\"5sGjkpNDmLI\\\",\\\"DsHAMsr0a38\\\",\\\"PRSm9_059_I\\\",\\\"fSAdfWC4Lgw\\\",\\\"coKEEIjXu78\\\",\\\"48S4eAdEPa0\\\",\\\"S-Cy6rR4ubs\\\",\\\"XKZmWh87zUs\\\",\\\"GRnU60VzBnE\\\",\\\"96_MgWajihY\\\",\\\"LMU2w-K4J7k\\\",\\\"tvFY_dbdcEU\\\",\\\"JZq0Q5c1ZrI\\\",\\\"ctolJ4ucmmc\\\",\\\"QUphuuwt0Zw\\\",\\\"wv9Q-_-WtzI\\\"],\\\"lastPageFetched\\\":2,\\\"perPage\\\":12,\\\"total\\\":209136}}},\\\"collectionFeeds\\\":{},\\\"userFeeds\\\":{},\\\"topicFeeds\\\":{}},\\\"uploader\\\":null,\\\"auth\\\":null,\\\"ui\\\":{\\\"windowWidth\\\":null,\\\"progressBar\\\":{\\\"dataFetchingCounter\\\":0},\\\"flash\\\":null,\\\"fixedBottomCard\\\":null,\\\"pageModal\\\":{\\\"pendingScrollReset\\\":false},\\\"homepageHeaderBackgroundID\\\":\\\"oNJuXlz-uX0\\\",\\\"topicsSubNavSlugs\\\":[\\\"wallpapers\\\",\\\"nature\\\",\\\"people\\\",\\\"architecture\\\",\\\"current-events\\\",\\\"experimental\\\",\\\"fashion\\\",\\\"film\\\",\\\"health\\\",\\\"interiors\\\",\\\"street-photography\\\",\\\"technology\\\",\\\"travel\\\",\\\"textures-patterns\\\",\\\"business-work\\\",\\\"animals\\\",\\\"food-drink\\\",\\\"athletics\\\",\\\"spirituality\\\",\\\"arts-culture\\\",\\\"history\\\"]},\\\"searches\\\":{},\\\"visualSearches\\\":{},\\\"xp\\\":{\\\"feedback-loop-v2\\\":{\\\"id\\\":\\\"feedback-loop-v2\\\",\\\"variant\\\":\\\"control\\\"}},\\\"staticData\\\":{\\\"teammates\\\":[],\\\"jobPostIds\\\":null,\\\"timeline\\\":[]},\\\"activityMap\\\":{\\\"displayDuration\\\":3000,\\\"events\\\":[]},\\\"trends\\\":{\\\"trendingTerms\\\":[],\\\"searchTermTrend\\\":{\\\"searches\\\":{\\\"total\\\":0,\\\"historical\\\":{\\\"average\\\":0,\\\"change\\\":0,\\\"quantity\\\":0,\\\"resolution\\\":\\\"days\\\",\\\"values\\\":[]}},\\\"avg_photos_count\\\":0}},\\\"publicStats\\\":{}}\");\n  </script>\n  <script src=\"/a/vendors~collection-route~editorial-route~explore-route~following-route~photos-route~search-photos-ro~0dc70d2b.8094b.js\">\n  </script>\n  <script src=\"/a/vendors~collection-route~editorial-route~explore-route~following-route~photos-route~search-photos-ro~442bbaaa.83d7f.js\">\n  </script>\n  <script src=\"/a/collection-route~collections-feed-route~editorial-route~explore-route~following-route~photos-route~s~01c48002.32ee6.js\">\n  </script>\n  <script src=\"/a/collection-route~editorial-route~explore-route~following-route~photos-route~search-photos-route~topi~0002510d.57e93.js\">\n  </script>\n  <script src=\"/a/collection-route~collections-feed-route~editorial-route~explore-route~following-route~photos-route~s~e4d94ba3.d40b0.js\">\n  </script>\n  <script src=\"/a/collection-route~editorial-route~explore-route~following-route~photos-route~search-photos-route~topi~238b1f24.eff09.js\">\n  </script>\n  <script src=\"/a/collection-route~editorial-route~explore-route~following-route~photos-route~search-photos-route~sear~d07b8da3.5be80.js\">\n  </script>\n  <script src=\"/a/collection-route~editorial-route~explore-route~following-route~photos-route~search-photos-route~topi~844af3af.f9b72.js\">\n  </script>\n  <script src=\"/a/collection-route~editorial-route~explore-route~following-route~photos-route~search-photos-route~sear~296de1ab.0a721.js\">\n  </script>\n  <script src=\"/a/editorial-route~explore-route.14d31.js\">\n  </script>\n  <script src=\"/a/editorial-route.015b4.js\">\n  </script>\n  <script src=\"/a/framework.3831e.js\">\n  </script>\n  <script src=\"/a/vendors~main.c73dc.js\">\n  </script>\n  <script src=\"/a/main.73c83.js\">\n  </script>\n  <script>\n   window.performClientRender();\n  </script>\n  <img alt=\"Tracking\" src=\"https://trkn.us/pixel/imp/c=8384;p=890843;idfa=;cid=;ord=1607608114563;nocr=1\" style=\"display:none\"/>\n </body>\n</html>\n"
     ]
    }
   ],
   "source": [
    "print(soup.prettify())"
   ]
  },
  {
   "cell_type": "code",
   "execution_count": 6,
   "metadata": {},
   "outputs": [
    {
     "output_type": "execute_result",
     "data": {
      "text/plain": [
       "<a class=\"_2Mc8_ _3ZLHW _1HV49 _2WvKc\" href=\"/photos/oNJuXlz-uX0\" itemprop=\"contentUrl\" title=\"blue white and black abstract painting\">Photo of the Day</a>"
      ]
     },
     "metadata": {},
     "execution_count": 6
    }
   ],
   "source": [
    "soup.find_all('a', class_='_2Mc8_ _3ZLHW _1HV49 _2WvKc')[0]"
   ]
  },
  {
   "cell_type": "code",
   "execution_count": 7,
   "metadata": {},
   "outputs": [],
   "source": [
    "photo_id = soup.find_all('a', class_='_2Mc8_ _3ZLHW _1HV49 _2WvKc')[0]['href'][8:]"
   ]
  },
  {
   "cell_type": "code",
   "execution_count": 8,
   "metadata": {},
   "outputs": [
    {
     "output_type": "execute_result",
     "data": {
      "text/plain": [
       "'uX0'"
      ]
     },
     "metadata": {},
     "execution_count": 8
    }
   ],
   "source": [
    "photo_id[8:]"
   ]
  },
  {
   "cell_type": "code",
   "execution_count": 9,
   "metadata": {},
   "outputs": [],
   "source": [
    "base_url = \"https://source.unsplash.com/\""
   ]
  },
  {
   "cell_type": "code",
   "execution_count": 10,
   "metadata": {},
   "outputs": [
    {
     "output_type": "execute_result",
     "data": {
      "text/plain": [
       "'https://source.unsplash.com/oNJuXlz-uX0/1920x1080'"
      ]
     },
     "metadata": {},
     "execution_count": 10
    }
   ],
   "source": [
    "photo_url = base_url + photo_id + '/1920x1080'\n",
    "photo_url"
   ]
  },
  {
   "cell_type": "code",
   "execution_count": 11,
   "metadata": {},
   "outputs": [],
   "source": [
    "image = requests.get(photo_url)\n",
    "with open('image.jpg', 'wb') as f:\n",
    "    f.write(image.content)"
   ]
  },
  {
   "cell_type": "code",
   "execution_count": null,
   "metadata": {},
   "outputs": [],
   "source": []
  }
 ]
}